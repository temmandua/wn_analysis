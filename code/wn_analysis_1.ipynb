{
 "cells": [
  {
   "cell_type": "code",
   "id": "19189a6b-2bae-478d-8e1a-b8673769a92e",
   "metadata": {
    "collapsed": true,
    "jupyter": {
     "outputs_hidden": true
    }
   },
   "source": [
    "### console commands ###\n",
    "\n",
    "#pip install wn --upgrade\n",
    "#pip install nltk\n",
    "#pip install multiwordnet\n",
    "#pip install NlpToolkit-WordNet #turkish WordNet\n",
    "#pip show NlpToolkit-WordNet\n",
    "#pip install pandas"
   ],
   "outputs": [],
   "execution_count": null
  },
  {
   "cell_type": "code",
   "id": "b44322eb-a66c-466c-b748-a6f8ca133d73",
   "metadata": {
    "collapsed": true,
    "jupyter": {
     "outputs_hidden": true
    },
    "ExecuteTime": {
     "end_time": "2025-10-24T12:47:59.057931Z",
     "start_time": "2025-10-24T12:47:56.418092Z"
    }
   },
   "source": [
    "import wn\n",
    "import nltk\n",
    "import pandas as pd\n",
    "nltk.download('omw-1.4')\n",
    "nltk.download('wordnet')\n",
    "#from nltk.corpus import wordnet as wn"
   ],
   "outputs": [
    {
     "name": "stderr",
     "output_type": "stream",
     "text": [
      "[nltk_data] Downloading package omw-1.4 to\n",
      "[nltk_data]     C:\\Users\\torto\\AppData\\Roaming\\nltk_data...\n",
      "[nltk_data]   Package omw-1.4 is already up-to-date!\n",
      "[nltk_data] Downloading package wordnet to\n",
      "[nltk_data]     C:\\Users\\torto\\AppData\\Roaming\\nltk_data...\n",
      "[nltk_data]   Package wordnet is already up-to-date!\n"
     ]
    },
    {
     "data": {
      "text/plain": [
       "True"
      ]
     },
     "execution_count": 2,
     "metadata": {},
     "output_type": "execute_result"
    }
   ],
   "execution_count": 2
  },
  {
   "cell_type": "code",
   "id": "5d7acc28-e6a3-45ce-8d46-a01a406c87af",
   "metadata": {
    "ExecuteTime": {
     "end_time": "2025-10-24T12:48:29.386306Z",
     "start_time": "2025-10-24T12:48:29.333128Z"
    }
   },
   "source": [
    "#TRYING to load Mongolian WordNet\n",
    "df = pd.read_csv(\"C:\\\\Users\\\\torto\\\\Documents\\\\GitHub\\\\omw-data\\\\.git\\\\monwn\\\\wn-data-mon.tsv\", sep=\"\\t\")\n",
    "display(df)"
   ],
   "outputs": [
    {
     "data": {
      "text/plain": [
       "      # Mongolian Wordnet (MonWN)        mon  \\\n",
       "0                      06177450-n  mon:lemma   \n",
       "1                      06177729-n  mon:lemma   \n",
       "2                      06177729-n  mon:def 0   \n",
       "3                      00001740-n  mon:lemma   \n",
       "4                      06177923-n  mon:lemma   \n",
       "...                           ...        ...   \n",
       "42604                  06176107-n  mon:def 0   \n",
       "42605                  13773539-n  mon:lemma   \n",
       "42606                  13773539-n  mon:lemma   \n",
       "42607                  06177033-n  mon:lemma   \n",
       "42608                  01176232-v  mon:lemma   \n",
       "\n",
       "            https://github.com/kbatsuren/monwn  CC BY 4.0  \n",
       "0                                  авиа судлал        NaN  \n",
       "1                                       үг зүй        NaN  \n",
       "2      үгийн дуудлагын зөвшөөрөгдсөн тогтолцоо        NaN  \n",
       "3                                         нэгж        NaN  \n",
       "4                                     залгавар        NaN  \n",
       "...                                        ...        ...  \n",
       "42604   өгүүлбэр дэх үгсийн хэл зүйн тогтолцоо        NaN  \n",
       "42605                                    гэгээ        NaN  \n",
       "42606                                   ул мөр        NaN  \n",
       "42607                                 авиа зүй        NaN  \n",
       "42608                                   хөгжөө        NaN  \n",
       "\n",
       "[42609 rows x 4 columns]"
      ],
      "text/html": [
       "<div>\n",
       "<style scoped>\n",
       "    .dataframe tbody tr th:only-of-type {\n",
       "        vertical-align: middle;\n",
       "    }\n",
       "\n",
       "    .dataframe tbody tr th {\n",
       "        vertical-align: top;\n",
       "    }\n",
       "\n",
       "    .dataframe thead th {\n",
       "        text-align: right;\n",
       "    }\n",
       "</style>\n",
       "<table border=\"1\" class=\"dataframe\">\n",
       "  <thead>\n",
       "    <tr style=\"text-align: right;\">\n",
       "      <th></th>\n",
       "      <th># Mongolian Wordnet (MonWN)</th>\n",
       "      <th>mon</th>\n",
       "      <th>https://github.com/kbatsuren/monwn</th>\n",
       "      <th>CC BY 4.0</th>\n",
       "    </tr>\n",
       "  </thead>\n",
       "  <tbody>\n",
       "    <tr>\n",
       "      <th>0</th>\n",
       "      <td>06177450-n</td>\n",
       "      <td>mon:lemma</td>\n",
       "      <td>авиа судлал</td>\n",
       "      <td>NaN</td>\n",
       "    </tr>\n",
       "    <tr>\n",
       "      <th>1</th>\n",
       "      <td>06177729-n</td>\n",
       "      <td>mon:lemma</td>\n",
       "      <td>үг зүй</td>\n",
       "      <td>NaN</td>\n",
       "    </tr>\n",
       "    <tr>\n",
       "      <th>2</th>\n",
       "      <td>06177729-n</td>\n",
       "      <td>mon:def 0</td>\n",
       "      <td>үгийн дуудлагын зөвшөөрөгдсөн тогтолцоо</td>\n",
       "      <td>NaN</td>\n",
       "    </tr>\n",
       "    <tr>\n",
       "      <th>3</th>\n",
       "      <td>00001740-n</td>\n",
       "      <td>mon:lemma</td>\n",
       "      <td>нэгж</td>\n",
       "      <td>NaN</td>\n",
       "    </tr>\n",
       "    <tr>\n",
       "      <th>4</th>\n",
       "      <td>06177923-n</td>\n",
       "      <td>mon:lemma</td>\n",
       "      <td>залгавар</td>\n",
       "      <td>NaN</td>\n",
       "    </tr>\n",
       "    <tr>\n",
       "      <th>...</th>\n",
       "      <td>...</td>\n",
       "      <td>...</td>\n",
       "      <td>...</td>\n",
       "      <td>...</td>\n",
       "    </tr>\n",
       "    <tr>\n",
       "      <th>42604</th>\n",
       "      <td>06176107-n</td>\n",
       "      <td>mon:def 0</td>\n",
       "      <td>өгүүлбэр дэх үгсийн хэл зүйн тогтолцоо</td>\n",
       "      <td>NaN</td>\n",
       "    </tr>\n",
       "    <tr>\n",
       "      <th>42605</th>\n",
       "      <td>13773539-n</td>\n",
       "      <td>mon:lemma</td>\n",
       "      <td>гэгээ</td>\n",
       "      <td>NaN</td>\n",
       "    </tr>\n",
       "    <tr>\n",
       "      <th>42606</th>\n",
       "      <td>13773539-n</td>\n",
       "      <td>mon:lemma</td>\n",
       "      <td>ул мөр</td>\n",
       "      <td>NaN</td>\n",
       "    </tr>\n",
       "    <tr>\n",
       "      <th>42607</th>\n",
       "      <td>06177033-n</td>\n",
       "      <td>mon:lemma</td>\n",
       "      <td>авиа зүй</td>\n",
       "      <td>NaN</td>\n",
       "    </tr>\n",
       "    <tr>\n",
       "      <th>42608</th>\n",
       "      <td>01176232-v</td>\n",
       "      <td>mon:lemma</td>\n",
       "      <td>хөгжөө</td>\n",
       "      <td>NaN</td>\n",
       "    </tr>\n",
       "  </tbody>\n",
       "</table>\n",
       "<p>42609 rows × 4 columns</p>\n",
       "</div>"
      ]
     },
     "metadata": {},
     "output_type": "display_data",
     "jetTransient": {
      "display_id": null
     }
    }
   ],
   "execution_count": 4
  },
  {
   "cell_type": "code",
   "id": "2f4801ae-1fa7-4de1-aa81-ed7f0e723151",
   "metadata": {
    "scrolled": true
   },
   "source": [
    "love_en = wn.synsets('love', lang='eng')\n",
    "print(love_en[0].definition())"
   ],
   "outputs": [],
   "execution_count": null
  },
  {
   "cell_type": "code",
   "id": "1a0cc592-5292-4249-bfec-6e5cffc7dbea",
   "metadata": {},
   "source": "wn.lemmas('amore', lang='swe')",
   "outputs": [],
   "execution_count": null
  },
  {
   "cell_type": "code",
   "id": "9a8e2803-8be5-4f41-a1bb-dcf8b0d264d0",
   "metadata": {},
   "source": [
    "print(wn.synset('love.n.01').lemma_names('ita'))\n",
    "print(wn.synset('love.n.01').lemma_names('arb'))"
   ],
   "outputs": [],
   "execution_count": null
  },
  {
   "cell_type": "code",
   "id": "c9cce48d-eff9-4f06-8932-86a3879fea59",
   "metadata": {
    "collapsed": true,
    "jupyter": {
     "outputs_hidden": true
    },
    "scrolled": true
   },
   "source": [
    "for x in wn.langs():\n",
    "    print(str(x))\n",
    "    print(wn.synset('cat.n.01').lemma_names(str(x)))"
   ],
   "outputs": [],
   "execution_count": null
  },
  {
   "cell_type": "code",
   "id": "5fb81eee-ab60-4b01-ae49-7f8d8011d76e",
   "metadata": {},
   "source": [
    "# what am i dong here T_T\n",
    "print(wn.synset('dog.n.01').lemma_names('pol'))\n",
    "print('\\'' + wn.synset('dog.n.01').lemma_names('pol')[1] + '\\'')\n",
    "print(wn.lemmas('\\'' + wn.synset('dog.n.01').lemma_names('pol')[1] + '\\'', lang='pol'))"
   ],
   "outputs": [],
   "execution_count": null
  },
  {
   "cell_type": "code",
   "id": "f9f0255c-81d9-424f-8c20-21570eab3177",
   "metadata": {
    "scrolled": true
   },
   "source": [
    "for x in wn.langs():\n",
    "    try: wn.lemma('love.n.01.' + wn.synset('love.n.01').lemma_names(str(x))[0]).synset()\n",
    "    except: WordNetError"
   ],
   "outputs": [],
   "execution_count": null
  },
  {
   "cell_type": "code",
   "id": "5f3bf13e-7cbd-4a5e-bacd-65122b608a41",
   "metadata": {
    "collapsed": true,
    "jupyter": {
     "outputs_hidden": true
    }
   },
   "source": [
    "dog_tr = wn.synsets('cane', lang='ita')\n",
    "print(dog_ita[0].definition())  # Still returns the English definition\n",
    "print(dog_ita[0].lemmas('ita'))"
   ],
   "outputs": [],
   "execution_count": null
  },
  {
   "cell_type": "code",
   "id": "8d81f662-12ea-4abc-a5d9-cec938eecb85",
   "metadata": {},
   "source": [
    "from WordNet.WordNet import WordNet\n",
    "\n",
    "a = WordNet()"
   ],
   "outputs": [],
   "execution_count": null
  },
  {
   "cell_type": "code",
   "id": "b20b175e-0d29-4be9-98b7-eac663305ae9",
   "metadata": {},
   "source": [],
   "outputs": [],
   "execution_count": null
  },
  {
   "cell_type": "code",
   "id": "00726a03-4755-42d3-ba09-d54c59681b42",
   "metadata": {},
   "source": [],
   "outputs": [],
   "execution_count": null
  },
  {
   "cell_type": "code",
   "id": "921e92be-b6bf-43c6-8aef-4c1505e1aa97",
   "metadata": {
    "collapsed": true,
    "jupyter": {
     "outputs_hidden": true
    }
   },
   "source": [
    "from multiwordnet.db import compile\n",
    "#compile('english')\n",
    "#compile('italian')\n",
    "#compile('french')\n",
    "#compile('hebrew')\n",
    "#compile('portuguese')\n",
    "#compile('spanish')\n",
    "compile('japanese')\n",
    "compile('common')"
   ],
   "outputs": [],
   "execution_count": null
  },
  {
   "cell_type": "code",
   "id": "d60d27ba-9e5c-442c-8aef-b76942f7a06c",
   "metadata": {
    "jupyter": {
     "source_hidden": true
    }
   },
   "source": [
    "from multiwordnet.wordnet import WordNet\n",
    "\n",
    "EWN = WordNet('english')\n",
    "IWN = WordNet('italian')\n",
    "FWN = WordNet('french')\n",
    "HWN = WordNet('hebrew')\n",
    "PWN = WordNet('portuguese')\n",
    "SWN = WordNet('spanish')\n"
   ],
   "outputs": [],
   "execution_count": null
  },
  {
   "cell_type": "code",
   "id": "898b7f68-4951-4395-809d-b104acfedf2c",
   "metadata": {
    "collapsed": true,
    "jupyter": {
     "outputs_hidden": true
    },
    "scrolled": true
   },
   "source": [
    "test = 0\n",
    "for synset in HWN.synsets:\n",
    "    test += 1\n",
    "    if test > 10:\n",
    "        break\n",
    "    else:\n",
    "        print(synset)\n",
    "        print('\\n')"
   ],
   "outputs": [],
   "execution_count": null
  },
  {
   "cell_type": "code",
   "id": "f65acfa3-69d0-4bf2-b615-b4a4a028058c",
   "metadata": {},
   "source": [
    "# English synsets\n",
    "count = 0\n",
    "for synset in EWN.synsets:\n",
    "    if synset is not None:\n",
    "        count += 1\n",
    "    else: next\n",
    "count_EWN = count\n",
    "# finds 44569 synsets even if when loading the WordNet it shows 44576"
   ],
   "outputs": [],
   "execution_count": null
  },
  {
   "cell_type": "code",
   "id": "8530ffc1-895d-4f8c-8336-ec82288191a4",
   "metadata": {},
   "source": [
    "count_EWN = sum(1 for synset in EWN.synsets)"
   ],
   "outputs": [],
   "execution_count": null
  },
  {
   "cell_type": "code",
   "id": "affd05d3-9256-402d-a5f4-fa44ef07df74",
   "metadata": {},
   "source": [
    "count_FWN = sum(1 for synset in FWN.synsets)"
   ],
   "outputs": [],
   "execution_count": null
  },
  {
   "cell_type": "code",
   "id": "950f678c-4ee1-4bdb-87ce-32dff4d2141d",
   "metadata": {},
   "source": [
    "count_IWN = sum(1 for synset in IWN.synsets)"
   ],
   "outputs": [],
   "execution_count": null
  },
  {
   "cell_type": "code",
   "id": "471400ec-1163-45b2-b19c-816062470eee",
   "metadata": {},
   "source": [
    "count_HWN = sum(1 for synset in HWN.synsets)\n",
    "print(count_HWN)"
   ],
   "outputs": [],
   "execution_count": null
  },
  {
   "cell_type": "code",
   "id": "956f0dc7-5331-406c-b7e0-251036a41ff5",
   "metadata": {},
   "source": [
    "count_PWN = sum(1 for synset in PWN.synsets)"
   ],
   "outputs": [],
   "execution_count": null
  },
  {
   "cell_type": "code",
   "id": "fae07459-ab55-4a0c-a5c1-0b4f360d2168",
   "metadata": {},
   "source": [
    "count_SWN = sum(1 for synset in SWN.synsets)"
   ],
   "outputs": [],
   "execution_count": null
  },
  {
   "cell_type": "code",
   "id": "06af65fb-045e-4e27-b423-dac9f760ca6e",
   "metadata": {},
   "source": [
    "print(str(count_EWN) + \"/102389 synsets found\")\n",
    "print(str(count_FWN) + \"/54995 synsets found\")\n",
    "print(str(count_IWN) + \"/38748 synsets found\")\n",
    "print(str(count_HWN) + \"/5929 synsets found\")\n",
    "print(str(count_PWN) + \"/44576 synsets found\")\n",
    "print(str(count_SWN) + \"/81292 synsets found\")\n",
    "\n",
    "# 102382 synsets found, according to loading: 102389\n",
    "# 54965 synsets found, according to loading: 54995\n",
    "# 38741 synsets found, according to loading: 38748\n",
    "# 5922 synsets found, according to loading: 5929\n",
    "# 44569 synsets found, according to loading: 44576\n",
    "# 80281 synsets found, according to loading: 81292"
   ],
   "outputs": [],
   "execution_count": null
  },
  {
   "cell_type": "code",
   "id": "30f32cbb-7517-45a3-908b-c53b2656b904",
   "metadata": {},
   "source": [
    "angry = EWN.get_lemma('angry', 'a')"
   ],
   "outputs": [],
   "execution_count": null
  },
  {
   "cell_type": "code",
   "id": "3ec36408-fa29-4c91-b6d7-4ba8ed97eac7",
   "metadata": {},
   "source": [
    "angry.synonyms"
   ],
   "outputs": [],
   "execution_count": null
  },
  {
   "cell_type": "code",
   "id": "3b60ed22-b10e-4a9d-9991-e1120c6dcd44",
   "metadata": {},
   "source": [],
   "outputs": [],
   "execution_count": null
  }
 ],
 "metadata": {
  "kernelspec": {
   "display_name": "Python 3 (ipykernel)",
   "language": "python",
   "name": "python3"
  },
  "language_info": {
   "codemirror_mode": {
    "name": "ipython",
    "version": 3
   },
   "file_extension": ".py",
   "mimetype": "text/x-python",
   "name": "python",
   "nbconvert_exporter": "python",
   "pygments_lexer": "ipython3",
   "version": "3.11.5"
  }
 },
 "nbformat": 4,
 "nbformat_minor": 5
}
