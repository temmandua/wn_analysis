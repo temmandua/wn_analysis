{
 "cells": [
  {
   "cell_type": "code",
   "id": "19189a6b-2bae-478d-8e1a-b8673769a92e",
   "metadata": {
    "collapsed": true,
    "jupyter": {
     "outputs_hidden": true
    },
    "ExecuteTime": {
     "end_time": "2025-10-24T10:57:57.115832Z",
     "start_time": "2025-10-24T10:57:57.110429Z"
    }
   },
   "source": [
    "### console commands ###\n",
    " #pip install wn --upgrade\n",
    "#pip install multiwordnet\n",
    "#pip install NlpToolkit-WordNet #turkish WordNet\n",
    "#pip show NlpToolkit-WordNet\n",
    "#pip install pandas"
   ],
   "outputs": [
    {
     "ename": "SyntaxError",
     "evalue": "invalid syntax (871200450.py, line 1)",
     "output_type": "error",
     "traceback": [
      "  \u001B[36mCell\u001B[39m\u001B[36m \u001B[39m\u001B[32mIn[1]\u001B[39m\u001B[32m, line 1\u001B[39m\n\u001B[31m    \u001B[39m\u001B[31mpip install wn --upgrade\u001B[39m\n        ^\n\u001B[31mSyntaxError\u001B[39m\u001B[31m:\u001B[39m invalid syntax\n"
     ]
    }
   ],
   "execution_count": 1
  },
  {
   "cell_type": "code",
   "id": "b44322eb-a66c-466c-b748-a6f8ca133d73",
   "metadata": {
    "collapsed": true,
    "jupyter": {
     "outputs_hidden": true
    },
    "ExecuteTime": {
     "end_time": "2025-10-24T11:09:03.641051Z",
     "start_time": "2025-10-24T11:09:03.177211Z"
    }
   },
   "source": [
    "import wn\n",
    "import nltk\n",
    "nltk.download('omw-1.4')\n",
    "nltk.download('wordnet')\n",
    "from nltk.corpus import wordnet as wn"
   ],
   "outputs": [
    {
     "name": "stderr",
     "output_type": "stream",
     "text": [
      "[nltk_data] Downloading package omw-1.4 to\n",
      "[nltk_data]     C:\\Users\\torto\\AppData\\Roaming\\nltk_data...\n",
      "[nltk_data]   Package omw-1.4 is already up-to-date!\n",
      "[nltk_data] Downloading package wordnet to\n",
      "[nltk_data]     C:\\Users\\torto\\AppData\\Roaming\\nltk_data...\n",
      "[nltk_data]   Package wordnet is already up-to-date!\n"
     ]
    }
   ],
   "execution_count": 2
  },
  {
   "cell_type": "code",
   "id": "5d7acc28-e6a3-45ce-8d46-a01a406c87af",
   "metadata": {
    "ExecuteTime": {
     "end_time": "2025-10-24T11:06:43.773456Z",
     "start_time": "2025-10-24T11:06:43.372061Z"
    }
   },
   "source": [
    "#TRYING to load Mongolian WordNet\n",
    "import pandas as pd\n",
    "df = pd.read_csv(\"C:\\\\Users\\\\torto\\\\Documents\\\\GitHub\\\\omw-data\\\\.git\\\\monwn\\\\wn-data-mon.tsv\", sep=\"\\t\")"
   ],
   "outputs": [],
   "execution_count": 5
  },
  {
   "cell_type": "code",
   "id": "2f4801ae-1fa7-4de1-aa81-ed7f0e723151",
   "metadata": {
    "scrolled": true,
    "ExecuteTime": {
     "end_time": "2025-10-24T11:09:12.462414Z",
     "start_time": "2025-10-24T11:09:10.864650Z"
    }
   },
   "source": [
    "love_en = wn.synsets('love', lang='eng')\n",
    "print(love_en[0].definition())"
   ],
   "outputs": [
    {
     "name": "stdout",
     "output_type": "stream",
     "text": [
      "a strong positive emotion of regard and affection\n"
     ]
    }
   ],
   "execution_count": 3
  },
  {
   "cell_type": "code",
   "id": "1a0cc592-5292-4249-bfec-6e5cffc7dbea",
   "metadata": {
    "ExecuteTime": {
     "end_time": "2025-10-24T11:09:41.475547Z",
     "start_time": "2025-10-24T11:09:41.325678Z"
    }
   },
   "source": "wn.lemmas('amore', lang='swe')",
   "outputs": [
    {
     "data": {
      "text/plain": [
       "[Lemma('love.n.02.amore'),\n",
       " Lemma('love.n.04.amore'),\n",
       " Lemma('love.n.01.amore'),\n",
       " Lemma('affection.n.01.amore'),\n",
       " Lemma('enthusiasm.n.01.amore'),\n",
       " Lemma('beloved.n.01.amore'),\n",
       " Lemma('darling.n.01.amore'),\n",
       " Lemma('sweetheart.n.02.amore'),\n",
       " Lemma('sweetheart.n.01.amore')]"
      ]
     },
     "execution_count": 4,
     "metadata": {},
     "output_type": "execute_result"
    }
   ],
   "execution_count": 4
  },
  {
   "cell_type": "code",
   "id": "9a8e2803-8be5-4f41-a1bb-dcf8b0d264d0",
   "metadata": {
    "ExecuteTime": {
     "end_time": "2025-10-24T11:09:45.391028Z",
     "start_time": "2025-10-24T11:09:45.255415Z"
    }
   },
   "source": [
    "print(wn.synset('love.n.01').lemma_names('ita'))\n",
    "print(wn.synset('love.n.01').lemma_names('arb'))"
   ],
   "outputs": [
    {
     "name": "stdout",
     "output_type": "stream",
     "text": [
      "['amore']\n",
      "['حُبّ']\n"
     ]
    }
   ],
   "execution_count": 5
  },
  {
   "cell_type": "code",
   "id": "c9cce48d-eff9-4f06-8932-86a3879fea59",
   "metadata": {
    "collapsed": true,
    "jupyter": {
     "outputs_hidden": true
    },
    "scrolled": true,
    "ExecuteTime": {
     "end_time": "2025-10-24T11:19:06.465667Z",
     "start_time": "2025-10-24T11:19:06.462337Z"
    }
   },
   "source": [
    "for x in wn.langs():\n",
    "    print(str(x))\n",
    "    print(wn.synset('cat.n.01').lemma_names(str(x)))"
   ],
   "outputs": [
    {
     "name": "stdout",
     "output_type": "stream",
     "text": [
      "eng\n",
      "['cat', 'true_cat']\n",
      "als\n",
      "[]\n",
      "arb\n",
      "['قِطّ', 'قِطّة', 'هِرّ', 'هِرّة']\n",
      "bul\n",
      "['котка']\n",
      "cmn\n",
      "['猫']\n",
      "dan\n",
      "['kat', 'mis', 'missekat']\n",
      "ell\n",
      "['γάτα', 'γατί']\n",
      "fin\n",
      "['kissa', 'kissaeläin']\n",
      "fra\n",
      "['chat']\n",
      "heb\n",
      "['חָתוּל']\n",
      "hrv\n",
      "['male_mačke', 'mačka', 'mačke']\n",
      "isl\n",
      "['kisa', 'köttur']\n",
      "ita\n",
      "['gatto']\n",
      "ita_iwn\n",
      "['gatto', 'micio']\n",
      "jpn\n",
      "['にゃんにゃん', 'キャット', 'ネコ', '猫']\n",
      "cat\n",
      "['gat', 'gata']\n",
      "eus\n",
      "['katu']\n",
      "glg\n",
      "['gato']\n",
      "spa\n",
      "['felis_silvestris_catus', 'gata', 'gato']\n",
      "ind\n",
      "['kucing']\n",
      "zsm\n",
      "['kucing']\n",
      "nld\n",
      "['huiskat']\n",
      "nno\n",
      "['katt', 'pus', 'pusekatt']\n",
      "nob\n",
      "['katt', 'pus', 'pusekatt']\n",
      "pol\n",
      "['kot']\n",
      "por\n",
      "['Gato_doméstico', 'Gato-doméstico', 'bichano', 'gata', 'gato', 'gato-doméstico']\n",
      "ron\n",
      "['pisică']\n",
      "lit\n",
      "['katė']\n",
      "slk\n",
      "['mačka']\n",
      "slv\n",
      "['mačka']\n",
      "swe\n",
      "['katt']\n",
      "tha\n",
      "['แมว']\n"
     ]
    }
   ],
   "execution_count": 14
  },
  {
   "cell_type": "code",
   "id": "5fb81eee-ab60-4b01-ae49-7f8d8011d76e",
   "metadata": {
    "ExecuteTime": {
     "end_time": "2025-10-24T11:24:45.409354Z",
     "start_time": "2025-10-24T11:24:45.405534Z"
    }
   },
   "source": [
    "# what am i dong here T_T\n",
    "print(wn.synset('dog.n.01').lemma_names('pol'))\n",
    "print('\\'' + wn.synset('dog.n.01').lemma_names('pol')[1] + '\\'')\n",
    "print(wn.lemmas('\\'' + wn.synset('dog.n.01').lemma_names('pol')[1] + '\\'', lang='pol'))"
   ],
   "outputs": [
    {
     "name": "stdout",
     "output_type": "stream",
     "text": [
      "['pies', 'pies_domowy']\n",
      "'pies_domowy'\n",
      "[]\n"
     ]
    }
   ],
   "execution_count": 17
  },
  {
   "cell_type": "code",
   "id": "f9f0255c-81d9-424f-8c20-21570eab3177",
   "metadata": {
    "scrolled": true,
    "ExecuteTime": {
     "end_time": "2025-10-24T11:26:55.142987Z",
     "start_time": "2025-10-24T11:26:55.106491Z"
    }
   },
   "source": [
    "for x in wn.langs():\n",
    "    try: wn.lemma('love.n.01.' + wn.synset('love.n.01').lemma_names(str(x))[0]).synset()\n",
    "    except: WordNetError"
   ],
   "outputs": [
    {
     "ename": "NameError",
     "evalue": "name 'WordNetError' is not defined",
     "output_type": "error",
     "traceback": [
      "\u001B[31m---------------------------------------------------------------------------\u001B[39m",
      "\u001B[31mWordNetError\u001B[39m                              Traceback (most recent call last)",
      "\u001B[36mCell\u001B[39m\u001B[36m \u001B[39m\u001B[32mIn[20]\u001B[39m\u001B[32m, line 2\u001B[39m\n\u001B[32m      1\u001B[39m \u001B[38;5;28;01mfor\u001B[39;00m x \u001B[38;5;129;01min\u001B[39;00m wn.langs():\n\u001B[32m----> \u001B[39m\u001B[32m2\u001B[39m     \u001B[38;5;28;01mtry\u001B[39;00m: wn.lemma(\u001B[33m'\u001B[39m\u001B[33mlove.n.01.\u001B[39m\u001B[33m'\u001B[39m + wn.synset(\u001B[33m'\u001B[39m\u001B[33mlove.n.01\u001B[39m\u001B[33m'\u001B[39m).lemma_names(\u001B[38;5;28mstr\u001B[39m(x))[\u001B[32m0\u001B[39m]).synset()\n\u001B[32m      3\u001B[39m     \u001B[38;5;28;01mexcept\u001B[39;00m: WordNetError\n",
      "\u001B[36mFile \u001B[39m\u001B[32m~\\Desktop\\Studium\\BA\\term_paper\\code\\.venv\\Lib\\site-packages\\nltk\\corpus\\reader\\wordnet.py:1516\u001B[39m, in \u001B[36mWordNetCorpusReader.lemma\u001B[39m\u001B[34m(self, name, lang)\u001B[39m\n\u001B[32m   1515\u001B[39m         \u001B[38;5;28;01mreturn\u001B[39;00m lemma\n\u001B[32m-> \u001B[39m\u001B[32m1516\u001B[39m \u001B[38;5;28;01mraise\u001B[39;00m WordNetError(\u001B[33mf\u001B[39m\u001B[33m\"\u001B[39m\u001B[33mNo lemma \u001B[39m\u001B[38;5;132;01m{\u001B[39;00mlemma_name\u001B[38;5;132;01m!r}\u001B[39;00m\u001B[33m in \u001B[39m\u001B[38;5;132;01m{\u001B[39;00msynset_name\u001B[38;5;132;01m!r}\u001B[39;00m\u001B[33m\"\u001B[39m)\n",
      "\u001B[31mWordNetError\u001B[39m: No lemma 'dashuri' in 'love.n.01'",
      "\nDuring handling of the above exception, another exception occurred:\n",
      "\u001B[31mNameError\u001B[39m                                 Traceback (most recent call last)",
      "\u001B[36mCell\u001B[39m\u001B[36m \u001B[39m\u001B[32mIn[20]\u001B[39m\u001B[32m, line 3\u001B[39m\n\u001B[32m      1\u001B[39m \u001B[38;5;28;01mfor\u001B[39;00m x \u001B[38;5;129;01min\u001B[39;00m wn.langs():\n\u001B[32m      2\u001B[39m     \u001B[38;5;28;01mtry\u001B[39;00m: wn.lemma(\u001B[33m'\u001B[39m\u001B[33mlove.n.01.\u001B[39m\u001B[33m'\u001B[39m + wn.synset(\u001B[33m'\u001B[39m\u001B[33mlove.n.01\u001B[39m\u001B[33m'\u001B[39m).lemma_names(\u001B[38;5;28mstr\u001B[39m(x))[\u001B[32m0\u001B[39m]).synset()\n\u001B[32m----> \u001B[39m\u001B[32m3\u001B[39m     \u001B[38;5;28;01mexcept\u001B[39;00m: WordNetError\n",
      "\u001B[31mNameError\u001B[39m: name 'WordNetError' is not defined"
     ]
    }
   ],
   "execution_count": 20
  },
  {
   "cell_type": "code",
   "execution_count": 42,
   "id": "5f3bf13e-7cbd-4a5e-bacd-65122b608a41",
   "metadata": {
    "collapsed": true,
    "jupyter": {
     "outputs_hidden": true
    }
   },
   "outputs": [
    {
     "name": "stdout",
     "output_type": "stream",
     "text": [
      "a member of the genus Canis (probably descended from the common wolf) that has been domesticated by man since prehistoric times; occurs in many breeds\n",
      "[Lemma('dog.n.01.Canis_familiaris'), Lemma('dog.n.01.cane')]\n"
     ]
    }
   ],
   "source": [
    "dog_tr = wn.synsets('cane', lang='ita')\n",
    "print(dog_ita[0].definition())  # Still returns the English definition\n",
    "print(dog_ita[0].lemmas('ita'))"
   ]
  },
  {
   "cell_type": "code",
   "execution_count": 111,
   "id": "8d81f662-12ea-4abc-a5d9-cec938eecb85",
   "metadata": {},
   "outputs": [],
   "source": [
    "from WordNet.WordNet import WordNet\n",
    "\n",
    "a = WordNet()"
   ]
  },
  {
   "cell_type": "code",
   "execution_count": null,
   "id": "b20b175e-0d29-4be9-98b7-eac663305ae9",
   "metadata": {},
   "outputs": [],
   "source": []
  },
  {
   "cell_type": "code",
   "execution_count": null,
   "id": "00726a03-4755-42d3-ba09-d54c59681b42",
   "metadata": {},
   "outputs": [],
   "source": []
  },
  {
   "cell_type": "code",
   "execution_count": 1,
   "id": "921e92be-b6bf-43c6-8aef-4c1505e1aa97",
   "metadata": {
    "collapsed": true,
    "jupyter": {
     "outputs_hidden": true
    }
   },
   "outputs": [
    {
     "ename": "FileNotFoundError",
     "evalue": "[Errno 2] No such file or directory: '/home/dae29bf8-c2e1-45bd-a186-754608ba306a/.local/lib/python3.11/site-packages/multiwordnet/db/japanese/'",
     "output_type": "error",
     "traceback": [
      "\u001B[0;31m---------------------------------------------------------------------------\u001B[0m",
      "\u001B[0;31mFileNotFoundError\u001B[0m                         Traceback (most recent call last)",
      "Cell \u001B[0;32mIn[1], line 8\u001B[0m\n\u001B[1;32m      1\u001B[0m \u001B[38;5;28;01mfrom\u001B[39;00m \u001B[38;5;21;01mmultiwordnet\u001B[39;00m\u001B[38;5;21;01m.\u001B[39;00m\u001B[38;5;21;01mdb\u001B[39;00m \u001B[38;5;28;01mimport\u001B[39;00m \u001B[38;5;28mcompile\u001B[39m\n\u001B[1;32m      2\u001B[0m \u001B[38;5;66;03m#compile('english')\u001B[39;00m\n\u001B[1;32m      3\u001B[0m \u001B[38;5;66;03m#compile('italian')\u001B[39;00m\n\u001B[1;32m      4\u001B[0m \u001B[38;5;66;03m#compile('french')\u001B[39;00m\n\u001B[1;32m      5\u001B[0m \u001B[38;5;66;03m#compile('hebrew')\u001B[39;00m\n\u001B[1;32m      6\u001B[0m \u001B[38;5;66;03m#compile('portuguese')\u001B[39;00m\n\u001B[1;32m      7\u001B[0m \u001B[38;5;66;03m#compile('spanish')\u001B[39;00m\n\u001B[0;32m----> 8\u001B[0m \u001B[38;5;28mcompile\u001B[39m(\u001B[38;5;124m'\u001B[39m\u001B[38;5;124mjapanese\u001B[39m\u001B[38;5;124m'\u001B[39m)\n\u001B[1;32m      9\u001B[0m \u001B[38;5;28mcompile\u001B[39m(\u001B[38;5;124m'\u001B[39m\u001B[38;5;124mcommon\u001B[39m\u001B[38;5;124m'\u001B[39m)\n",
      "File \u001B[0;32m~/.local/lib/python3.11/site-packages/multiwordnet/db/__init__.py:54\u001B[0m, in \u001B[0;36mcompile\u001B[0;34m(language, overwrite, ignore_errors, verbose, *tables)\u001B[0m\n\u001B[1;32m     52\u001B[0m \u001B[38;5;28;01mdef\u001B[39;00m \u001B[38;5;21mcompile\u001B[39m(language, \u001B[38;5;241m*\u001B[39mtables, overwrite\u001B[38;5;241m=\u001B[39m\u001B[38;5;28;01mTrue\u001B[39;00m, ignore_errors\u001B[38;5;241m=\u001B[39m\u001B[38;5;28;01mTrue\u001B[39;00m, verbose\u001B[38;5;241m=\u001B[39m\u001B[38;5;28;01mTrue\u001B[39;00m):\n\u001B[1;32m     53\u001B[0m     \u001B[38;5;28;01mif\u001B[39;00m \u001B[38;5;129;01mnot\u001B[39;00m tables:\n\u001B[0;32m---> 54\u001B[0m         tables \u001B[38;5;241m=\u001B[39m [filename\u001B[38;5;241m.\u001B[39msplit(\u001B[38;5;124m'\u001B[39m\u001B[38;5;124m_\u001B[39m\u001B[38;5;124m'\u001B[39m, maxsplit\u001B[38;5;241m=\u001B[39m\u001B[38;5;241m1\u001B[39m)[\u001B[38;5;241m1\u001B[39m]\u001B[38;5;241m.\u001B[39mreplace(\u001B[38;5;124m'\u001B[39m\u001B[38;5;124m.sql\u001B[39m\u001B[38;5;124m'\u001B[39m, \u001B[38;5;124m'\u001B[39m\u001B[38;5;124m'\u001B[39m) \u001B[38;5;28;01mfor\u001B[39;00m filename \u001B[38;5;129;01min\u001B[39;00m os\u001B[38;5;241m.\u001B[39mlistdir(\u001B[38;5;124mf\u001B[39m\u001B[38;5;124m\"\u001B[39m\u001B[38;5;132;01m{\u001B[39;00mmodule\u001B[38;5;132;01m}\u001B[39;00m\u001B[38;5;124m/\u001B[39m\u001B[38;5;132;01m{\u001B[39;00mlanguage\u001B[38;5;132;01m}\u001B[39;00m\u001B[38;5;124m/\u001B[39m\u001B[38;5;124m\"\u001B[39m) \u001B[38;5;28;01mif\u001B[39;00m filename\u001B[38;5;241m.\u001B[39mendswith(\u001B[38;5;124m'\u001B[39m\u001B[38;5;124m.sql\u001B[39m\u001B[38;5;124m'\u001B[39m)]\n\u001B[1;32m     56\u001B[0m     \u001B[38;5;28;01mfor\u001B[39;00m table \u001B[38;5;129;01min\u001B[39;00m tables:\n\u001B[1;32m     57\u001B[0m         \u001B[38;5;28;01mif\u001B[39;00m \u001B[38;5;129;01mnot\u001B[39;00m os\u001B[38;5;241m.\u001B[39mpath\u001B[38;5;241m.\u001B[39mexists(\u001B[38;5;124mf\u001B[39m\u001B[38;5;124m\"\u001B[39m\u001B[38;5;132;01m{\u001B[39;00mmodule\u001B[38;5;132;01m}\u001B[39;00m\u001B[38;5;124m/\u001B[39m\u001B[38;5;132;01m{\u001B[39;00mlanguage\u001B[38;5;132;01m}\u001B[39;00m\u001B[38;5;124m/\u001B[39m\u001B[38;5;132;01m{\u001B[39;00mlanguage\u001B[38;5;132;01m}\u001B[39;00m\u001B[38;5;124m_\u001B[39m\u001B[38;5;132;01m{\u001B[39;00mtable\u001B[38;5;132;01m}\u001B[39;00m\u001B[38;5;124m.db\u001B[39m\u001B[38;5;124m\"\u001B[39m) \\\n\u001B[1;32m     58\u001B[0m                 \u001B[38;5;129;01mor\u001B[39;00m overwrite \u001B[38;5;129;01mis\u001B[39;00m \u001B[38;5;28;01mTrue\u001B[39;00m:\n",
      "\u001B[0;31mFileNotFoundError\u001B[0m: [Errno 2] No such file or directory: '/home/dae29bf8-c2e1-45bd-a186-754608ba306a/.local/lib/python3.11/site-packages/multiwordnet/db/japanese/'"
     ]
    }
   ],
   "source": [
    "from multiwordnet.db import compile\n",
    "#compile('english')\n",
    "#compile('italian')\n",
    "#compile('french')\n",
    "#compile('hebrew')\n",
    "#compile('portuguese')\n",
    "#compile('spanish')\n",
    "compile('japanese')\n",
    "compile('common')"
   ]
  },
  {
   "cell_type": "code",
   "execution_count": 99,
   "id": "d60d27ba-9e5c-442c-8aef-b76942f7a06c",
   "metadata": {
    "jupyter": {
     "source_hidden": true
    }
   },
   "outputs": [],
   "source": [
    "from multiwordnet.wordnet import WordNet\n",
    "\n",
    "EWN = WordNet('english')\n",
    "IWN = WordNet('italian')\n",
    "FWN = WordNet('french')\n",
    "HWN = WordNet('hebrew')\n",
    "PWN = WordNet('portuguese')\n",
    "SWN = WordNet('spanish')\n"
   ]
  },
  {
   "cell_type": "code",
   "execution_count": 94,
   "id": "898b7f68-4951-4395-809d-b104acfedf2c",
   "metadata": {
    "collapsed": true,
    "jupyter": {
     "outputs_hidden": true
    },
    "scrolled": true
   },
   "outputs": [
    {
     "name": "stdout",
     "output_type": "stream",
     "text": [
      "goddess of the sky\n",
      "\n",
      "\n",
      "an ideal instance; a perfect embodiment of a concept\n",
      "\n",
      "\n",
      "someone who is adored blindly and excessively\n",
      "\n",
      "\n",
      "אדם שנערץ בצורה עיוורת ע\\'י הרבה אנשים; \\'אליל הנוער עמד בפתח האולפן וחילק חתימות למעריצים\\'\n",
      "\n",
      "\n",
      "the supernatural being conceived as the perfect and omnipotent and omniscient originator and ruler of the universe; the object of worship in monotheistic religions\n",
      "\n",
      "\n",
      "the twelfth month of the civil year; the sixth month of the ecclesiastical year in the Jewish calendar (in August and September)\n",
      "\n",
      "\n",
      "one of the British Isles in the Irish Sea\n",
      "\n",
      "\n",
      "state of sorrow over the death or departure of a loved one\n",
      "\n",
      "\n",
      "large oblong or roundish melon with a hard green rind and sweet watery red or occasionally yellowish pulp\n",
      "\n",
      "\n",
      "an African melon\n",
      "\n",
      "\n"
     ]
    }
   ],
   "source": [
    "test = 0\n",
    "for synset in HWN.synsets:\n",
    "    test += 1\n",
    "    if test > 10:\n",
    "        break\n",
    "    else:\n",
    "        print(synset)\n",
    "        print('\\n')"
   ]
  },
  {
   "cell_type": "code",
   "execution_count": 63,
   "id": "f65acfa3-69d0-4bf2-b615-b4a4a028058c",
   "metadata": {},
   "outputs": [],
   "source": [
    "# English synsets\n",
    "count = 0\n",
    "for synset in EWN.synsets:\n",
    "    if synset is not None:\n",
    "        count += 1\n",
    "    else: next\n",
    "count_EWN = count\n",
    "# finds 44569 synsets even if when loading the WordNet it shows 44576"
   ]
  },
  {
   "cell_type": "code",
   "execution_count": null,
   "id": "8530ffc1-895d-4f8c-8336-ec82288191a4",
   "metadata": {},
   "outputs": [],
   "source": [
    "count_EWN = sum(1 for synset in EWN.synsets)"
   ]
  },
  {
   "cell_type": "code",
   "execution_count": null,
   "id": "affd05d3-9256-402d-a5f4-fa44ef07df74",
   "metadata": {},
   "outputs": [],
   "source": [
    "count_FWN = sum(1 for synset in FWN.synsets)"
   ]
  },
  {
   "cell_type": "code",
   "execution_count": null,
   "id": "950f678c-4ee1-4bdb-87ce-32dff4d2141d",
   "metadata": {},
   "outputs": [],
   "source": [
    "count_IWN = sum(1 for synset in IWN.synsets)"
   ]
  },
  {
   "cell_type": "code",
   "execution_count": 84,
   "id": "471400ec-1163-45b2-b19c-816062470eee",
   "metadata": {},
   "outputs": [
    {
     "name": "stdout",
     "output_type": "stream",
     "text": [
      "5922\n"
     ]
    }
   ],
   "source": [
    "count_HWN = sum(1 for synset in HWN.synsets)\n",
    "print(count_HWN)"
   ]
  },
  {
   "cell_type": "code",
   "execution_count": null,
   "id": "956f0dc7-5331-406c-b7e0-251036a41ff5",
   "metadata": {},
   "outputs": [],
   "source": [
    "count_PWN = sum(1 for synset in PWN.synsets)"
   ]
  },
  {
   "cell_type": "code",
   "execution_count": null,
   "id": "fae07459-ab55-4a0c-a5c1-0b4f360d2168",
   "metadata": {},
   "outputs": [],
   "source": [
    "count_SWN = sum(1 for synset in SWN.synsets)"
   ]
  },
  {
   "cell_type": "code",
   "execution_count": 80,
   "id": "06af65fb-045e-4e27-b423-dac9f760ca6e",
   "metadata": {},
   "outputs": [
    {
     "name": "stdout",
     "output_type": "stream",
     "text": [
      "102382/102389 synsets found\n",
      "54965/54995 synsets found\n",
      "38741/38748 synsets found\n",
      "5922/5929 synsets found\n",
      "44569/44576 synsets found\n",
      "80281/81292 synsets found\n"
     ]
    }
   ],
   "source": [
    "print(str(count_EWN) + \"/102389 synsets found\")\n",
    "print(str(count_FWN) + \"/54995 synsets found\")\n",
    "print(str(count_IWN) + \"/38748 synsets found\")\n",
    "print(str(count_HWN) + \"/5929 synsets found\")\n",
    "print(str(count_PWN) + \"/44576 synsets found\")\n",
    "print(str(count_SWN) + \"/81292 synsets found\")\n",
    "\n",
    "# 102382 synsets found, according to loading: 102389\n",
    "# 54965 synsets found, according to loading: 54995\n",
    "# 38741 synsets found, according to loading: 38748\n",
    "# 5922 synsets found, according to loading: 5929\n",
    "# 44569 synsets found, according to loading: 44576\n",
    "# 80281 synsets found, according to loading: 81292"
   ]
  },
  {
   "cell_type": "code",
   "execution_count": 109,
   "id": "30f32cbb-7517-45a3-908b-c53b2656b904",
   "metadata": {},
   "outputs": [],
   "source": [
    "angry = EWN.get_lemma('angry', 'a')"
   ]
  },
  {
   "cell_type": "code",
   "execution_count": 110,
   "id": "3ec36408-fa29-4c91-b6d7-4ba8ed97eac7",
   "metadata": {},
   "outputs": [
    {
     "data": {
      "text/plain": [
       "[Lemma('tempestuous', 'a', 'english'),\n",
       " Lemma('wild', 'a', 'english'),\n",
       " Lemma('raging', 'a', 'english'),\n",
       " Lemma('furious', 'a', 'english')]"
      ]
     },
     "execution_count": 110,
     "metadata": {},
     "output_type": "execute_result"
    }
   ],
   "source": [
    "angry.synonyms"
   ]
  },
  {
   "cell_type": "code",
   "execution_count": null,
   "id": "3b60ed22-b10e-4a9d-9991-e1120c6dcd44",
   "metadata": {},
   "outputs": [],
   "source": []
  }
 ],
 "metadata": {
  "kernelspec": {
   "display_name": "Python 3 (ipykernel)",
   "language": "python",
   "name": "python3"
  },
  "language_info": {
   "codemirror_mode": {
    "name": "ipython",
    "version": 3
   },
   "file_extension": ".py",
   "mimetype": "text/x-python",
   "name": "python",
   "nbconvert_exporter": "python",
   "pygments_lexer": "ipython3",
   "version": "3.11.5"
  }
 },
 "nbformat": 4,
 "nbformat_minor": 5
}
