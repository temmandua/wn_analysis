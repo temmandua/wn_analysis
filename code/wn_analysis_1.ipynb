{
 "cells": [
  {
   "cell_type": "code",
   "id": "19189a6b-2bae-478d-8e1a-b8673769a92e",
   "metadata": {
    "collapsed": true,
    "jupyter": {
     "outputs_hidden": true
    }
   },
   "source": [
    "##########################\n",
    "### notes on the stuff ###\n",
    "##########################\n",
    "\n",
    "\n",
    "# afaik: NLTK and WN are 2 separate WordNet readers ... so ... I only need one of them?\n",
    "# depending on which one is better to work with maybe?\n",
    "# does one of them have the possibility to read data that is not in their downloadable data base?"
   ],
   "outputs": [],
   "execution_count": null
  },
  {
   "cell_type": "code",
   "id": "b44322eb-a66c-466c-b748-a6f8ca133d73",
   "metadata": {
    "collapsed": true,
    "jupyter": {
     "outputs_hidden": true
    },
    "ExecuteTime": {
     "end_time": "2025-10-27T12:51:05.729118Z",
     "start_time": "2025-10-27T12:51:05.315235Z"
    }
   },
   "source": [
    "\n",
    "########################\n",
    "### console commands ###\n",
    "### and imports etc. ###\n",
    "########################\n",
    "\n",
    "# console: pip install wn --upgrade\n",
    "# --> wn\n",
    "import wn\n",
    "from wn import Wordnet\n",
    "# console: python -m wn download omw:1.4\n",
    "\n",
    "# console: pip install pandas\n",
    "import pandas as pd"
   ],
   "outputs": [],
   "execution_count": 1
  },
  {
   "metadata": {
    "ExecuteTime": {
     "end_time": "2025-10-27T12:51:08.941289Z",
     "start_time": "2025-10-27T12:51:08.566040Z"
    }
   },
   "cell_type": "code",
   "source": [
    "# console: pip install nltk\n",
    "# --> Natural Language Tool Kit\n",
    "import nltk\n",
    "from nltk.corpus import wordnet as nltkwn\n",
    "nltk.download('omw-1.4')\n",
    "nltk.download('wordnet')"
   ],
   "id": "ecd00ff8750b8b3f",
   "outputs": [
    {
     "name": "stderr",
     "output_type": "stream",
     "text": [
      "[nltk_data] Downloading package omw-1.4 to\n",
      "[nltk_data]     C:\\Users\\torto\\AppData\\Roaming\\nltk_data...\n",
      "[nltk_data]   Package omw-1.4 is already up-to-date!\n",
      "[nltk_data] Downloading package wordnet to\n",
      "[nltk_data]     C:\\Users\\torto\\AppData\\Roaming\\nltk_data...\n",
      "[nltk_data]   Package wordnet is already up-to-date!\n"
     ]
    },
    {
     "data": {
      "text/plain": [
       "True"
      ]
     },
     "execution_count": 2,
     "metadata": {},
     "output_type": "execute_result"
    }
   ],
   "execution_count": 2
  },
  {
   "metadata": {},
   "cell_type": "code",
   "outputs": [],
   "execution_count": null,
   "source": [
    "\n",
    "\n",
    "#######################\n",
    "### TURKISH WORDNET ###\n",
    "#######################\n",
    "\n"
   ],
   "id": "8d935a8a0b248304"
  },
  {
   "metadata": {
    "ExecuteTime": {
     "end_time": "2025-10-27T12:51:14.077312Z",
     "start_time": "2025-10-27T12:51:12.326363Z"
    }
   },
   "cell_type": "code",
   "source": [
    "# console: pip install NlpToolkit-WordNet\n",
    "# --> turkish WordNet\n",
    "from WordNet.WordNet import WordNet as kewn\n",
    "twn = kewn(\"C:\\\\Users\\\\torto\\\\Documents\\\\GitHub\\\\omw-data\\\\.git\\\\TurkishWordNet-Py\\\\WordNet\\\\data\\\\turkish_wordnet.xml\");"
   ],
   "id": "60c322bd4e15d3f6",
   "outputs": [
    {
     "name": "stderr",
     "output_type": "stream",
     "text": [
      "C:\\Users\\torto\\.virtualenvs\\ermessages\\Lib\\site-packages\\WordNet\\WordNet.py:4: UserWarning: pkg_resources is deprecated as an API. See https://setuptools.pypa.io/en/latest/pkg_resources.html. The pkg_resources package is slated for removal as early as 2025-11-30. Refrain from using this package or pin to Setuptools<81.\n",
      "  import pkg_resources\n"
     ]
    }
   ],
   "execution_count": 3
  },
  {
   "metadata": {},
   "cell_type": "code",
   "outputs": [],
   "execution_count": null,
   "source": [
    "# trying to bring the synsets as told on the KeNet github\n",
    "kewn.synSetList(twn)"
   ],
   "id": "45a74a1ada80b23a"
  },
  {
   "metadata": {},
   "cell_type": "code",
   "outputs": [],
   "execution_count": null,
   "source": [
    "\n",
    "\n",
    "#########################\n",
    "### MONGOLIAN WORDNET ###\n",
    "#########################\n",
    "\n"
   ],
   "id": "8ec56b6fae0e6c6d"
  },
  {
   "cell_type": "code",
   "id": "5d7acc28-e6a3-45ce-8d46-a01a406c87af",
   "metadata": {},
   "source": [
    "#TRYING to load Mongolian WordNet\n",
    "df = pd.read_csv(\"C:\\\\Users\\\\torto\\\\Documents\\\\GitHub\\\\omw-data\\\\.git\\\\monwn\\\\wn-data-mon.tsv\", sep=\"\\t\")\n",
    "display(df)"
   ],
   "outputs": [],
   "execution_count": null
  },
  {
   "metadata": {},
   "cell_type": "code",
   "outputs": [],
   "execution_count": null,
   "source": [
    "\n",
    "\n",
    "####################\n",
    "### nltkwn tests ###\n",
    "####################\n",
    "\n"
   ],
   "id": "fa9e85836e72ee9d"
  },
  {
   "cell_type": "code",
   "id": "2f4801ae-1fa7-4de1-aa81-ed7f0e723151",
   "metadata": {
    "scrolled": true,
    "ExecuteTime": {
     "end_time": "2025-10-27T12:51:56.287119Z",
     "start_time": "2025-10-27T12:51:54.623352Z"
    }
   },
   "source": [
    "love_en = nltkwn.synsets('love', lang='eng')\n",
    "print(love_en[0].definition())"
   ],
   "outputs": [
    {
     "name": "stdout",
     "output_type": "stream",
     "text": [
      "a strong positive emotion of regard and affection\n"
     ]
    }
   ],
   "execution_count": 5
  },
  {
   "metadata": {
    "ExecuteTime": {
     "end_time": "2025-10-27T12:51:43.464389Z",
     "start_time": "2025-10-27T12:51:43.459844Z"
    }
   },
   "cell_type": "code",
   "outputs": [],
   "execution_count": 4,
   "source": "bg = wn.Wordnet('omw-bg:1.4')",
   "id": "e22c236d4d1630f0"
  },
  {
   "cell_type": "code",
   "id": "1a0cc592-5292-4249-bfec-6e5cffc7dbea",
   "metadata": {},
   "source": "nltkwn.lemmas('amore', lang='ita')",
   "outputs": [],
   "execution_count": null
  },
  {
   "cell_type": "code",
   "id": "9a8e2803-8be5-4f41-a1bb-dcf8b0d264d0",
   "metadata": {},
   "source": [
    "print(nltkwn.synset('love.n.01').lemma_names('ita'))\n",
    "print(nltkwn.synset('love.n.01').lemma_names('arb'))"
   ],
   "outputs": [],
   "execution_count": null
  },
  {
   "cell_type": "code",
   "id": "c9cce48d-eff9-4f06-8932-86a3879fea59",
   "metadata": {
    "collapsed": true,
    "jupyter": {
     "outputs_hidden": true
    },
    "scrolled": true,
    "ExecuteTime": {
     "end_time": "2025-10-27T12:52:18.796026Z",
     "start_time": "2025-10-27T12:52:18.793051Z"
    }
   },
   "source": [
    "for x in nltkwn.langs():\n",
    "    print(str(x))\n",
    "    print(nltkwn.synset('cat.n.01').lemma_names(str(x)))"
   ],
   "outputs": [
    {
     "name": "stdout",
     "output_type": "stream",
     "text": [
      "eng\n",
      "['cat', 'true_cat']\n"
     ]
    }
   ],
   "execution_count": 6
  },
  {
   "cell_type": "code",
   "id": "5fb81eee-ab60-4b01-ae49-7f8d8011d76e",
   "metadata": {
    "ExecuteTime": {
     "end_time": "2025-10-27T12:52:25.597327Z",
     "start_time": "2025-10-27T12:52:25.482631Z"
    }
   },
   "source": [
    "# what am i dong here T_T\n",
    "print(nltkwn.synset('dog.n.01').lemma_names('pol'))\n",
    "print('\\'' + nltkwn.synset('dog.n.01').lemma_names('pol')[1] + '\\'')\n",
    "print(nltkwn.lemmas('\\'' + nltkwn.synset('dog.n.01').lemma_names('pol')[1] + '\\'', lang='pol'))"
   ],
   "outputs": [
    {
     "name": "stdout",
     "output_type": "stream",
     "text": [
      "['pies', 'pies_domowy']\n",
      "'pies_domowy'\n",
      "[]\n"
     ]
    }
   ],
   "execution_count": 7
  },
  {
   "cell_type": "code",
   "id": "f9f0255c-81d9-424f-8c20-21570eab3177",
   "metadata": {
    "scrolled": true
   },
   "source": [
    "for x in nltkwn.langs():\n",
    "    nltkwn.lemma('love.n.01.' + nltkwn.synset('love.n.01').lemma_names(str(x))[0]).synset()"
   ],
   "outputs": [],
   "execution_count": null
  },
  {
   "cell_type": "code",
   "id": "5f3bf13e-7cbd-4a5e-bacd-65122b608a41",
   "metadata": {
    "collapsed": true,
    "jupyter": {
     "outputs_hidden": true
    }
   },
   "source": [
    "dog_ita = nltkwn.synsets('cane', lang='ita')\n",
    "print(dog_ita[0].definition())  # Still returns the English definition\n",
    "print(dog_ita[0].lemmas('ita'))"
   ],
   "outputs": [],
   "execution_count": null
  },
  {
   "cell_type": "code",
   "id": "00726a03-4755-42d3-ba09-d54c59681b42",
   "metadata": {},
   "source": [
    "\n",
    "\n",
    "####################\n",
    "### multiwordnet ###\n",
    "####################\n",
    "\n"
   ],
   "outputs": [],
   "execution_count": null
  },
  {
   "cell_type": "code",
   "id": "921e92be-b6bf-43c6-8aef-4c1505e1aa97",
   "metadata": {
    "collapsed": true,
    "jupyter": {
     "outputs_hidden": true
    }
   },
   "source": [
    "from multiwordnet.db import compile\n",
    "#compile('english')\n",
    "#compile('italian')\n",
    "#compile('french')\n",
    "#compile('hebrew')\n",
    "#compile('portuguese')\n",
    "#compile('spanish')\n",
    "compile('japanese')\n",
    "compile('common')"
   ],
   "outputs": [],
   "execution_count": null
  },
  {
   "cell_type": "code",
   "id": "d60d27ba-9e5c-442c-8aef-b76942f7a06c",
   "metadata": {
    "jupyter": {
     "source_hidden": true
    }
   },
   "source": [
    "from multiwordnet.wordnet import WordNet\n",
    "\n",
    "EWN = WordNet('english')\n",
    "IWN = WordNet('italian')\n",
    "FWN = WordNet('french')\n",
    "HWN = WordNet('hebrew')\n",
    "PWN = WordNet('portuguese')\n",
    "SWN = WordNet('spanish')\n"
   ],
   "outputs": [],
   "execution_count": null
  },
  {
   "cell_type": "code",
   "id": "898b7f68-4951-4395-809d-b104acfedf2c",
   "metadata": {
    "collapsed": true,
    "jupyter": {
     "outputs_hidden": true
    },
    "scrolled": true
   },
   "source": [
    "test = 0\n",
    "for synset in HWN.synsets:\n",
    "    test += 1\n",
    "    if test > 10:\n",
    "        break\n",
    "    else:\n",
    "        print(synset)\n",
    "        print('\\n')"
   ],
   "outputs": [],
   "execution_count": null
  },
  {
   "cell_type": "code",
   "id": "f65acfa3-69d0-4bf2-b615-b4a4a028058c",
   "metadata": {},
   "source": [
    "# English synsets\n",
    "count = 0\n",
    "for synset in EWN.synsets:\n",
    "    if synset is not None:\n",
    "        count += 1\n",
    "    else: next\n",
    "count_EWN = count\n",
    "# finds 44569 synsets even if when loading the WordNet it shows 44576"
   ],
   "outputs": [],
   "execution_count": null
  },
  {
   "cell_type": "code",
   "id": "8530ffc1-895d-4f8c-8336-ec82288191a4",
   "metadata": {},
   "source": [
    "count_EWN = sum(1 for synset in EWN.synsets)"
   ],
   "outputs": [],
   "execution_count": null
  },
  {
   "cell_type": "code",
   "id": "affd05d3-9256-402d-a5f4-fa44ef07df74",
   "metadata": {},
   "source": [
    "count_FWN = sum(1 for synset in FWN.synsets)"
   ],
   "outputs": [],
   "execution_count": null
  },
  {
   "cell_type": "code",
   "id": "950f678c-4ee1-4bdb-87ce-32dff4d2141d",
   "metadata": {},
   "source": [
    "count_IWN = sum(1 for synset in IWN.synsets)"
   ],
   "outputs": [],
   "execution_count": null
  },
  {
   "cell_type": "code",
   "id": "471400ec-1163-45b2-b19c-816062470eee",
   "metadata": {},
   "source": [
    "count_HWN = sum(1 for synset in HWN.synsets)\n",
    "print(count_HWN)"
   ],
   "outputs": [],
   "execution_count": null
  },
  {
   "cell_type": "code",
   "id": "956f0dc7-5331-406c-b7e0-251036a41ff5",
   "metadata": {},
   "source": [
    "count_PWN = sum(1 for synset in PWN.synsets)"
   ],
   "outputs": [],
   "execution_count": null
  },
  {
   "cell_type": "code",
   "id": "fae07459-ab55-4a0c-a5c1-0b4f360d2168",
   "metadata": {},
   "source": [
    "count_SWN = sum(1 for synset in SWN.synsets)"
   ],
   "outputs": [],
   "execution_count": null
  },
  {
   "cell_type": "code",
   "id": "06af65fb-045e-4e27-b423-dac9f760ca6e",
   "metadata": {},
   "source": [
    "print(str(count_EWN) + \"/102389 synsets found\")\n",
    "print(str(count_FWN) + \"/54995 synsets found\")\n",
    "print(str(count_IWN) + \"/38748 synsets found\")\n",
    "print(str(count_HWN) + \"/5929 synsets found\")\n",
    "print(str(count_PWN) + \"/44576 synsets found\")\n",
    "print(str(count_SWN) + \"/81292 synsets found\")\n",
    "\n",
    "# 102382 synsets found, according to loading: 102389\n",
    "# 54965 synsets found, according to loading: 54995\n",
    "# 38741 synsets found, according to loading: 38748\n",
    "# 5922 synsets found, according to loading: 5929\n",
    "# 44569 synsets found, according to loading: 44576\n",
    "# 80281 synsets found, according to loading: 81292"
   ],
   "outputs": [],
   "execution_count": null
  },
  {
   "cell_type": "code",
   "id": "30f32cbb-7517-45a3-908b-c53b2656b904",
   "metadata": {},
   "source": [
    "angry = EWN.get_lemma('angry', 'a')"
   ],
   "outputs": [],
   "execution_count": null
  },
  {
   "cell_type": "code",
   "id": "3ec36408-fa29-4c91-b6d7-4ba8ed97eac7",
   "metadata": {},
   "source": [
    "angry.synonyms"
   ],
   "outputs": [],
   "execution_count": null
  },
  {
   "cell_type": "code",
   "id": "3b60ed22-b10e-4a9d-9991-e1120c6dcd44",
   "metadata": {},
   "source": [],
   "outputs": [],
   "execution_count": null
  }
 ],
 "metadata": {
  "kernelspec": {
   "display_name": "Python 3 (ipykernel)",
   "language": "python",
   "name": "python3"
  },
  "language_info": {
   "codemirror_mode": {
    "name": "ipython",
    "version": 3
   },
   "file_extension": ".py",
   "mimetype": "text/x-python",
   "name": "python",
   "nbconvert_exporter": "python",
   "pygments_lexer": "ipython3",
   "version": "3.11.5"
  }
 },
 "nbformat": 4,
 "nbformat_minor": 5
}
